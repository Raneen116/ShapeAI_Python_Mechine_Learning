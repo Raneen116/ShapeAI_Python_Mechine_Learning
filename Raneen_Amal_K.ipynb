{
  "nbformat": 4,
  "nbformat_minor": 0,
  "metadata": {
    "colab": {
      "name": "Raneen Amal K.ipynb",
      "provenance": []
    },
    "kernelspec": {
      "name": "python3",
      "display_name": "Python 3"
    },
    "language_info": {
      "name": "python"
    }
  },
  "cells": [
    {
      "cell_type": "code",
      "metadata": {
        "colab": {
          "base_uri": "https://localhost:8080/",
          "height": 128
        },
        "id": "npxH6MHT1dXW",
        "outputId": "3d3dc987-5b8a-4aa5-d9fa-e9281a52488a"
      },
      "source": [
        "import numpy as np\n",
        "import pandas as pd\n",
        "\n",
        "import sklearn\n",
        "from sklearn.datasets import load_boston\n",
        "df=load_boston() \n",
        "\n",
        "df.keys() #return all the keys of the dataset\n",
        "\n",
        "print(df.DESCR) #info about the dataset\n",
        "\n",
        "print(df.data)\n",
        "\n",
        "boston=pd.DataFrame(df.data,columns=df.feature_names)\n",
        "boston.head()\n",
        "\n",
        "boston['MEDV']=df.target\n",
        "boston.head()\n",
        "\n",
        "boston.isnull()\n",
        "\n",
        "boston.isnull().sum() \n",
        "\n",
        "from sklearn.model_selection import train_test_split\n",
        "X=boston.drop('MEDV',axis=1) \n",
        "Y=boston['MEDV']\n",
        "X_train, X_test, Y_train, Y_test=train_test_split(X, Y, test_size=0.15,random_state=5)\n",
        "print(X_train.shape) \n",
        "print(X_test.shape)\n",
        "print(Y_train.shape)\n",
        "print(Y_test.shape)\n",
        "\n",
        "\n",
        "from sklearn.linear_model import LinearRegression\n",
        "from sklearn.metrics import mean_squared_error\n",
        "\n",
        "#FITTING MODEL ON THE TRAINING DATASET\n",
        "lin_model=LinearRegression()\n",
        "lin_model.fit(X_train,Y_train)\n",
        "\n",
        "\n",
        "Y_train_predict=lin_model.predict(X_train)\n",
        "rmse=(np.sqrt(mean_squared_error(Y_train, Y_train_predict)))\n",
        "print(\"the model performance of training set\")\n",
        "print('RMSE is {}'.format(rmse))\n",
        "print(\"/n\")\n",
        "#on testing set\n",
        "Y_test_predict=lin_model.predict(X_test)\n",
        "rmse=(np.sqrt(mean_squared_error(Y_test, Y_test_predict)))\n",
        "print(\"the model performance for training set\")\n",
        "print('RMSE is {}'.format(rmse))"
      ],
      "execution_count": 4,
      "outputs": [
        {
          "output_type": "error",
          "ename": "SyntaxError",
          "evalue": "ignored",
          "traceback": [
            "\u001b[0;36m  File \u001b[0;32m\"<ipython-input-4-ec9c0f07e2a6>\"\u001b[0;36m, line \u001b[0;32m1\u001b[0m\n\u001b[0;31m    import numpy as np\u001b[0m\n\u001b[0m                     ^\u001b[0m\n\u001b[0;31mSyntaxError\u001b[0m\u001b[0;31m:\u001b[0m invalid character in identifier\n"
          ]
        }
      ]
    }
  ]
}